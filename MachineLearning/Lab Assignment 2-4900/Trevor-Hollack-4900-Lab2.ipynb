{
 "cells": [
  {
   "cell_type": "markdown",
   "id": "b3e7773d",
   "metadata": {},
   "source": [
    "### CEG 4900 Trustworthy Machine Learning - Lab Assignment 2"
   ]
  },
  {
   "cell_type": "markdown",
   "id": "057fb92a",
   "metadata": {},
   "source": [
    "# <center>Poisoning Attacks and Backdoor Attacks</center>"
   ]
  },
  {
   "cell_type": "markdown",
   "id": "dcd0a0d2",
   "metadata": {},
   "source": [
    "### 1. Overview\n",
    "The learning objective of this lab assignment is for students to understand poisoning and backdoor attacks and the corresponding defenses against these attacks, including how to perform label flipping poisoning attack and hidden trigger backdoor attack, and how to defend against these attacks using data sanitization."
   ]
  },
  {
   "cell_type": "markdown",
   "id": "633487e0",
   "metadata": {},
   "source": [
    "#### Lecture notes. \n",
    "Detailed coverage of these topics can be found in the following:\n",
    "<li>Poisoning Attacks</li>\n",
    "<li>Poisoning Defenses</li>\n",
    "<li>Backdoor Attacks</li>\n",
    "\n",
    "#### Code demonstrations.\n",
    "<li>Code-Label Flipping Attack.ipynb</li>\n",
    "<li>Code-Data Sanitization.ipynb</li>\n",
    "<li>Code-Hidden Trigger Backdoor Attack.ipynb</li>"
   ]
  },
  {
   "cell_type": "markdown",
   "id": "3d253216",
   "metadata": {},
   "source": [
    "### 2. Submission\n",
    "You need to submit a detailed lab report with code, running results, and answers to the questions. If you submit <font color='red'>a jupyter notebook (“Firstname-Lastname-4900-Lab2.ipynb”)</font>, please fill in this file directly and place the code, running results, and answers in order for each question. If you submit <font color='red'>a PDF report (“Firstname-Lastname-4900-Lab2.pdf”) with code file (“Firstname-Lastname-4900-Lab2.py”)</font>, please include the screenshots (code and running results) with answers for each question in the report.  "
   ]
  },
  {
   "cell_type": "markdown",
   "id": "7802ac85",
   "metadata": {},
   "source": [
    "### 3. Questions (50 points)"
   ]
  },
  {
   "cell_type": "markdown",
   "id": "5143a65f",
   "metadata": {},
   "source": [
    "#### Preparations: import the required libraries and define functions\n",
    "\n",
    "Please run the following cell to import all the required libraries and define some necessary functions before complete the coding questions."
   ]
  },
  {
   "cell_type": "code",
   "execution_count": 2,
   "id": "912c0a31",
   "metadata": {},
   "outputs": [
    {
     "name": "stderr",
     "output_type": "stream",
     "text": [
      "/Library/Frameworks/Python.framework/Versions/3.9/lib/python3.9/site-packages/tqdm/auto.py:21: TqdmWarning: IProgress not found. Please update jupyter and ipywidgets. See https://ipywidgets.readthedocs.io/en/stable/user_install.html\n",
      "  from .autonotebook import tqdm as notebook_tqdm\n"
     ]
    }
   ],
   "source": [
    "#Put all the libraries here\n",
    "import numpy as np\n",
    "\n",
    "import torch\n",
    "import torch.optim as optim\n",
    "import torch.nn as nn\n",
    "import torch.nn.functional as F\n",
    "from torch.nn.parameter import Parameter\n",
    "from torchvision import datasets, transforms\n",
    "from torch.utils.data import DataLoader, Subset, TensorDataset, ConcatDataset, Dataset\n",
    "\n",
    "from sklearn.datasets import load_breast_cancer\n",
    "from sklearn.metrics import accuracy_score, f1_score, confusion_matrix\n",
    "from sklearn.model_selection import train_test_split\n",
    "\n",
    "from sklearn.linear_model import LogisticRegression\n",
    "from sklearn.neighbors import KNeighborsClassifier\n",
    "\n",
    "import matplotlib as mpl\n",
    "import matplotlib.pyplot as plt\n",
    "\n",
    "#Set the random seed\n",
    "np.random.seed(42)\n",
    "torch.manual_seed(42)\n",
    "\n",
    "#Define the training function for training model using train_dataloader\n",
    "def train(epoch, model, train_dataloader, optimizer, lossfunction):\n",
    "    model.train()\n",
    "    \n",
    "    train_loss = 0.0\n",
    "    train_total, train_correct = 0.0, 0.0 \n",
    "    \n",
    "    for X_batch, y_batch in train_dataloader:\n",
    "        optimizer.zero_grad()\n",
    "\n",
    "        #Get the predicted output\n",
    "        predictions = model(X_batch)\n",
    "\n",
    "        #Calculate the loss\n",
    "        loss = lossfunction(predictions, y_batch)\n",
    "        \n",
    "        #Update the weights usning gradient descent with Adam optimizer\n",
    "        loss.backward()\n",
    "        optimizer.step()\n",
    "        \n",
    "        #Convert probabilities to multi-class predictions (reutrn the class with the maximal proability)\n",
    "        _, train_predicted = torch.max(predictions.data, 1)\n",
    "        \n",
    "        #Calculate the training statistics\n",
    "        train_loss += loss.item()\n",
    "        train_total += y_batch.size(0)\n",
    "        train_correct += (train_predicted == y_batch).sum().item()\n",
    "\n",
    "    print(\"epoch (%d): Train accuracy: %.4f, loss: %.3f\" % (epoch, train_correct/train_total, train_loss/train_total))\n",
    "\n",
    "#Define the test function for evaluating the trained model using test_dataloader\n",
    "def test(model, test_dataloader):\n",
    "    model.eval()\n",
    "    \n",
    "    test_correct, test_total = 0.0, 0.0\n",
    "    y_test, y_pred = [], []\n",
    "    \n",
    "    with torch.no_grad():\n",
    "        for X_batch, y_batch in test_dataloader:\n",
    "            predictions = model(X_batch)\n",
    "            \n",
    "            _, test_predicted = torch.max(predictions.data, 1)\n",
    "            test_total += y_batch.size(0)\n",
    "            test_correct += (test_predicted == y_batch).sum().item()\n",
    "            \n",
    "            y_test += y_batch.tolist()\n",
    "            y_pred += test_predicted.tolist()\n",
    "\n",
    "    macro_f1 = f1_score(y_test, y_pred, average='macro')\n",
    "    print('Test accuracy: %.4f, macro f1_score: %.4f' % (test_correct / test_total, macro_f1))\n",
    "\n",
    "#Define the function that returns a predicted label for a single input sample\n",
    "def predict_label(model, single_input):\n",
    "    model.eval()  \n",
    "    with torch.no_grad():\n",
    "        prediction = model(single_input)\n",
    "        _, predicted_label = torch.max(prediction.data, 1)\n",
    "    \n",
    "    return predicted_label\n",
    "\n",
    "#Define the function that convert the raw dataset to PyTorch tensor\n",
    "class WrappedDataset(Dataset):\n",
    "    def __init__(self, base_dataset):\n",
    "        self.base_dataset = base_dataset\n",
    "\n",
    "    def __getitem__(self, index):\n",
    "        x, y = self.base_dataset[index]\n",
    "        return x, torch.tensor(y, dtype=torch.long)\n",
    "\n",
    "    def __len__(self):\n",
    "        return len(self.base_dataset)\n",
    "\n",
    "#Define the function that returns model parameters\n",
    "def weight_parameters(model):\n",
    "    model.eval()\n",
    "    with torch.no_grad():\n",
    "        parameters = list(model.parameters())[0]\n",
    "    \n",
    "    return parameters.detach().squeeze()\n",
    "\n",
    "#Define the function that plots the given images\n",
    "def plot_digits(instances, labels, images_per_row=5):\n",
    "    for i in range(len(instances)):\n",
    "        idx = i // images_per_row\n",
    "        idy = i % images_per_row \n",
    "        ax[idx, idy].imshow(instances[i].squeeze())\n",
    "        ax[idx, idy].set_title(class_names[labels[i]])\n",
    "        ax[idx, idy].axis(\"off\")\n",
    "\n",
    "#Define the function to train a linear model and get y_hat for label flipping attack\n",
    "def train_linear_model(epoch, linear_model, linear_model_optimizer, X, y, lossfunction):\n",
    "    linear_model.train()\n",
    "    linear_model_optimizer.zero_grad()\n",
    "    linear_model_outputs = linear_model(X)\n",
    "    linear_model_loss = -lossfunction(linear_model_outputs, y) #Need to place \"-\" before loss function\n",
    "    linear_model_loss.backward()\n",
    "    linear_model_optimizer.step()\n",
    "\n",
    "    print('Epoch: {:d}'.format(epoch),\n",
    "          'linear_model_loss: {:.4f}'.format(linear_model_loss.item()))\n",
    "\n",
    "#Define the function to train a feature collision model for hidden trigger backdoor attack\n",
    "def train_feature_collision_model(i, epoch, feature_collision_model, feature_collision_model_optimizer, triggered_instance, base_instance):\n",
    "    feature_collision_model.train()\n",
    "    feature_collision_model_optimizer.zero_grad()\n",
    "    feature_collision_objective = feature_collision_model(triggered_instance, base_instance)\n",
    "    feature_collision_objective.backward()\n",
    "    feature_collision_model_optimizer.step()"
   ]
  },
  {
   "cell_type": "markdown",
   "id": "a7b48b09",
   "metadata": {},
   "source": [
    "## <font color='blue'>Label Flipping Attack</font>"
   ]
  },
  {
   "cell_type": "markdown",
   "id": "c4353ca6",
   "metadata": {},
   "source": [
    "#### Load and preprocess the `Android dataset` data\n",
    "\n",
    "In Question 1, Question 2, Question 3, and Question 4, you will be using the `Breast Cancer Wisconsin dataset` to train a logistic regression model (binary classification model) to predict whether a tumor is `0: malignant` or `1: benign`, and perform a label flipping poisoning attack against this trained binary classification model. First, please run the following cell to load and preprocess the dataset."
   ]
  },
  {
   "cell_type": "code",
   "execution_count": 3,
   "id": "98706103",
   "metadata": {},
   "outputs": [
    {
     "name": "stdout",
     "output_type": "stream",
     "text": [
      "Class names:  ['malignant' 'benign']\n",
      "Number of Features:  30\n",
      "(455, 30)\n",
      "(455,)\n",
      "(114, 30)\n",
      "(114,)\n"
     ]
    }
   ],
   "source": [
    "#Load breast cancer wisconsin dataset\n",
    "cancer = load_breast_cancer()\n",
    "\n",
    "#Assign features and labels to X and y\n",
    "X, y = cancer.data, cancer.target\n",
    "\n",
    "#Class names\n",
    "print(\"Class names: \", cancer.target_names)\n",
    "#Feature number\n",
    "print(\"Number of Features: \", X.shape[1])\n",
    "\n",
    "#Split the data into two sets: 80% for training and 20% for testing\n",
    "X_train, X_test, y_train, y_test = train_test_split(X, y, test_size=0.20, random_state=42)\n",
    "\n",
    "print(X_train.shape)\n",
    "print(y_train.shape)\n",
    "print(X_test.shape)\n",
    "print(y_test.shape)"
   ]
  },
  {
   "cell_type": "markdown",
   "id": "f0dc9799",
   "metadata": {},
   "source": [
    "#### Question 1 (5 points):  \n",
    "\n",
    "**Implement function `answer_one( )` to train a binary model `binary_model` using `(X_train, y_train)` from `Breast Cancer Wisconsin dataset`, and evaluate the model performance by calculating accuracy and F1 score.** \n",
    "\n",
    "**To simplify the model training process, please directly use `LogisticRegression` from Scikit-learn library.**"
   ]
  },
  {
   "cell_type": "code",
   "execution_count": 4,
   "id": "0e6505fe",
   "metadata": {},
   "outputs": [
    {
     "name": "stdout",
     "output_type": "stream",
     "text": [
      "Test accuracy: 0.9561, F1_score: 0.9655\n"
     ]
    }
   ],
   "source": [
    "def answer_one():\n",
    "    #Code here: build a logistic regression model using scikit-learn library LogisticRegression \n",
    "    binary_model = LogisticRegression(solver=\"newton-cg\", random_state=42)\n",
    "    #Code here: train binary_model using fit() function and (X_train, y_train) data \n",
    "    binary_model.fit(X_train, y_train)\n",
    "    #Code here: use the trained model to predict on X_test\n",
    "    y_pred = binary_model.predict(X_test)\n",
    "    \n",
    "    #Code here: use y_test and y_pred to calculate accuracy and F1 using sklearn functions\n",
    "    accuracy = accuracy_score(y_test, y_pred)\n",
    "    f1 = f1_score(y_test, y_pred)\n",
    "    \n",
    "    print(\"Test accuracy: %.4f, F1_score: %.4f\" % (accuracy, f1))\n",
    "    \n",
    "    return binary_model, accuracy, f1\n",
    "\n",
    "#Run your function in the cell to return the results\n",
    "binary_model, clean_accuracy, clean_f1 = answer_one()"
   ]
  },
  {
   "cell_type": "markdown",
   "id": "4c70db0b",
   "metadata": {},
   "source": [
    "#### <font color='red'>Answer 1 (double click here to answer the questions in this cell):</font>  \n",
    "Before label flipping attack<br>\n",
    "The test accuracy is: (0.9561) <br>\n",
    "The test f1 score is: (0.9655)"
   ]
  },
  {
   "cell_type": "markdown",
   "id": "c28237ee",
   "metadata": {},
   "source": [
    "#### Question 2 (10 points):  \n",
    "**Implement a label flipping attack to poison the labels of the training data `y_train`, such that the logistic regression model re-trained on the poisoned data would make misclassification and thus decrease its test accuracy.** \n",
    "\n",
    "**First, define `LinearClassificationNet` to construct a linear classifier as sarrogate model to facilitate $\\hat{y}$ optimization. After that, complete the function `answer_two( )` to use closed form solution to optimize lab flipping attack and obtain the flipping operation probabilities. The closed form of weight matrix is $W=(X^T\\cdot X)^{-1}X^T\\hat{y}$. Based on the weight matrix, the linear classifier can be fixed as $f_W(X) = X \\cdot W = X \\cdot (X^T\\cdot X)^{-1}X^T\\hat{y}$, where $\\hat{y}$ is the only parameter in the function. $\\hat{y}$ represents flipping operation probabilities to specify how possible a specified label should be flipped to 1.** "
   ]
  },
  {
   "cell_type": "code",
   "execution_count": 5,
   "id": "d2312b55",
   "metadata": {},
   "outputs": [
    {
     "name": "stdout",
     "output_type": "stream",
     "text": [
      "Epoch: 1 linear_model_loss: -0.6606\n",
      "Epoch: 2 linear_model_loss: -0.6642\n",
      "Epoch: 3 linear_model_loss: -0.6678\n",
      "Epoch: 4 linear_model_loss: -0.6714\n",
      "Epoch: 5 linear_model_loss: -0.6750\n",
      "Epoch: 6 linear_model_loss: -0.6787\n",
      "Epoch: 7 linear_model_loss: -0.6823\n",
      "Epoch: 8 linear_model_loss: -0.6860\n",
      "Epoch: 9 linear_model_loss: -0.6897\n",
      "Epoch: 10 linear_model_loss: -0.6935\n",
      "Epoch: 11 linear_model_loss: -0.6972\n",
      "Epoch: 12 linear_model_loss: -0.7010\n",
      "Epoch: 13 linear_model_loss: -0.7047\n",
      "Epoch: 14 linear_model_loss: -0.7085\n",
      "Epoch: 15 linear_model_loss: -0.7124\n",
      "Epoch: 16 linear_model_loss: -0.7162\n",
      "Epoch: 17 linear_model_loss: -0.7201\n",
      "Epoch: 18 linear_model_loss: -0.7239\n",
      "Epoch: 19 linear_model_loss: -0.7278\n",
      "Epoch: 20 linear_model_loss: -0.7317\n",
      "Epoch: 21 linear_model_loss: -0.7357\n",
      "Epoch: 22 linear_model_loss: -0.7396\n",
      "Epoch: 23 linear_model_loss: -0.7436\n",
      "Epoch: 24 linear_model_loss: -0.7475\n",
      "Epoch: 25 linear_model_loss: -0.7515\n",
      "Epoch: 26 linear_model_loss: -0.7556\n",
      "Epoch: 27 linear_model_loss: -0.7596\n",
      "Epoch: 28 linear_model_loss: -0.7636\n",
      "Epoch: 29 linear_model_loss: -0.7677\n",
      "Epoch: 30 linear_model_loss: -0.7718\n",
      "Epoch: 31 linear_model_loss: -0.7759\n",
      "Epoch: 32 linear_model_loss: -0.7800\n",
      "Epoch: 33 linear_model_loss: -0.7841\n",
      "Epoch: 34 linear_model_loss: -0.7883\n",
      "Epoch: 35 linear_model_loss: -0.7925\n",
      "Epoch: 36 linear_model_loss: -0.7966\n",
      "Epoch: 37 linear_model_loss: -0.8008\n",
      "Epoch: 38 linear_model_loss: -0.8051\n",
      "Epoch: 39 linear_model_loss: -0.8093\n",
      "Epoch: 40 linear_model_loss: -0.8135\n",
      "Epoch: 41 linear_model_loss: -0.8178\n",
      "Epoch: 42 linear_model_loss: -0.8221\n",
      "Epoch: 43 linear_model_loss: -0.8264\n",
      "Epoch: 44 linear_model_loss: -0.8307\n",
      "Epoch: 45 linear_model_loss: -0.8350\n",
      "Epoch: 46 linear_model_loss: -0.8394\n",
      "Epoch: 47 linear_model_loss: -0.8438\n",
      "Epoch: 48 linear_model_loss: -0.8481\n",
      "Epoch: 49 linear_model_loss: -0.8525\n",
      "Epoch: 50 linear_model_loss: -0.8569\n",
      "tensor([0.4993, 0.7318, 0.4998, 0.5016, 0.4992, 0.7305, 0.5013, 0.4996, 0.5004,\n",
      "        0.7298, 0.5061, 0.7307, 0.7300, 0.5005, 0.4999, 0.7314, 0.7313, 0.7316,\n",
      "        0.5011, 0.4996, 0.5045, 0.7289, 0.5044, 0.5071, 0.5051, 0.7297, 0.5001,\n",
      "        0.7306, 0.4992, 0.4992, 0.7243, 0.4995, 0.7304, 0.7304, 0.5167, 0.4993,\n",
      "        0.5311, 0.4998, 0.4993, 0.5011, 0.4991, 0.7321, 0.7297, 0.5014, 0.5012,\n",
      "        0.4991, 0.4985, 0.4996, 0.5016, 0.5007, 0.5814, 0.4999, 0.5002, 0.5058,\n",
      "        0.5002, 0.7258, 0.5088, 0.4999, 0.5000, 0.5011, 0.5000, 0.5009, 0.5065,\n",
      "        0.5009, 0.4999, 0.5048, 0.5006, 0.5015, 0.4990, 0.7086, 0.7280, 0.6840,\n",
      "        0.5440, 0.5079, 0.7291, 0.5006, 0.7304, 0.5008, 0.4998, 0.4990, 0.5009,\n",
      "        0.7063, 0.5041, 0.5008, 0.7319, 0.5001, 0.5009, 0.4988, 0.7313, 0.5005,\n",
      "        0.7311, 0.7309, 0.4992, 0.5005, 0.5132, 0.6683, 0.4999, 0.4996, 0.5000,\n",
      "        0.4989, 0.7306, 0.4989, 0.4994, 0.5000, 0.4995, 0.5001, 0.7283, 0.5033,\n",
      "        0.7316, 0.7307, 0.4998, 0.4997, 0.7309, 0.5000, 0.4990, 0.5017, 0.5003,\n",
      "        0.5046, 0.4996, 0.4990, 0.5489, 0.7293, 0.7323, 0.4986, 0.5101, 0.7302,\n",
      "        0.4990, 0.4997, 0.7269, 0.5000, 0.7284, 0.4986, 0.7314, 0.5001, 0.5063,\n",
      "        0.5003, 0.5032, 0.7266, 0.5016, 0.5005, 0.5014, 0.7322, 0.5003, 0.7298,\n",
      "        0.5116, 0.7309, 0.4997, 0.7256, 0.4997, 0.5000, 0.7281, 0.5008, 0.4987,\n",
      "        0.4999, 0.5002, 0.5651, 0.5074, 0.5012, 0.5003, 0.7313, 0.5065, 0.5010,\n",
      "        0.7287, 0.5005, 0.4990, 0.7292, 0.4998, 0.4992, 0.5004, 0.5000, 0.5008,\n",
      "        0.5052, 0.4992, 0.7283, 0.4998, 0.5030, 0.5001, 0.7074, 0.4989, 0.7310,\n",
      "        0.5067, 0.5081, 0.4997, 0.7022, 0.5006, 0.7270, 0.7303, 0.4991, 0.5035,\n",
      "        0.7275, 0.4997, 0.7243, 0.6039, 0.5015, 0.5000, 0.5003, 0.5103, 0.4996,\n",
      "        0.4996, 0.4990, 0.7296, 0.4995, 0.7250, 0.5030, 0.5016, 0.4997, 0.7325,\n",
      "        0.5010, 0.7314, 0.4995, 0.5015, 0.7317, 0.7315, 0.4996, 0.4996, 0.7298,\n",
      "        0.5013, 0.7309, 0.7310, 0.4994, 0.7319, 0.7321, 0.4997, 0.5007, 0.7274,\n",
      "        0.7297, 0.7011, 0.5007, 0.4987, 0.4994, 0.4999, 0.7310, 0.4996, 0.7201,\n",
      "        0.7307, 0.7304, 0.5048, 0.4993, 0.4993, 0.5066, 0.5034, 0.5012, 0.4995,\n",
      "        0.4988, 0.5005, 0.7293, 0.7305, 0.5021, 0.4992, 0.7296, 0.5029, 0.5006,\n",
      "        0.4994, 0.5019, 0.5002, 0.7298, 0.4993, 0.5013, 0.7314, 0.7272, 0.5011,\n",
      "        0.5057, 0.5021, 0.7309, 0.5001, 0.5009, 0.5008, 0.4998, 0.4991, 0.5019,\n",
      "        0.7242, 0.4987, 0.5102, 0.7227, 0.5020, 0.4991, 0.4999, 0.5001, 0.4991,\n",
      "        0.5021, 0.7314, 0.5148, 0.5012, 0.7284, 0.5001, 0.7245, 0.7256, 0.7308,\n",
      "        0.5015, 0.7127, 0.5057, 0.5001, 0.7156, 0.7303, 0.7312, 0.5011, 0.4995,\n",
      "        0.5013, 0.4998, 0.5058, 0.5007, 0.5001, 0.7309, 0.4995, 0.5014, 0.4996,\n",
      "        0.7280, 0.5004, 0.4993, 0.7188, 0.5511, 0.4993, 0.7255, 0.4993, 0.7313,\n",
      "        0.7313, 0.5001, 0.4999, 0.7314, 0.4992, 0.7300, 0.7313, 0.4992, 0.7286,\n",
      "        0.7197, 0.4991, 0.5002, 0.7250, 0.5007, 0.7212, 0.5005, 0.5022, 0.5692,\n",
      "        0.4991, 0.5014, 0.7282, 0.7313, 0.7311, 0.4995, 0.4989, 0.5198, 0.7284,\n",
      "        0.7295, 0.4990, 0.7285, 0.7302, 0.5013, 0.5033, 0.5003, 0.7320, 0.4994,\n",
      "        0.7295, 0.7307, 0.7299, 0.5054, 0.5140, 0.5017, 0.7281, 0.5002, 0.5007,\n",
      "        0.7308, 0.7316, 0.7253, 0.7280, 0.5048, 0.7290, 0.5005, 0.5000, 0.5021,\n",
      "        0.5051, 0.5004, 0.4998, 0.4987, 0.7302, 0.7308, 0.7102, 0.7316, 0.4992,\n",
      "        0.5023, 0.5003, 0.5072, 0.7313, 0.5055, 0.6593, 0.4990, 0.5008, 0.4993,\n",
      "        0.4995, 0.5016, 0.7279, 0.7305, 0.7281, 0.4992, 0.5010, 0.6026, 0.5019,\n",
      "        0.4997, 0.7310, 0.7298, 0.7310, 0.7270, 0.4997, 0.5001, 0.6489, 0.7311,\n",
      "        0.5031, 0.5023, 0.5015, 0.7315, 0.5666, 0.7318, 0.4996, 0.4990, 0.6119,\n",
      "        0.4989, 0.4998, 0.5012, 0.4990, 0.7312, 0.5037, 0.5013, 0.4991, 0.5001,\n",
      "        0.4994, 0.5012, 0.5003, 0.4998, 0.4994, 0.7320, 0.4994, 0.4990, 0.4995,\n",
      "        0.5014, 0.4992, 0.5010, 0.7102, 0.5571, 0.5025, 0.7313, 0.4994, 0.5002,\n",
      "        0.5723, 0.7290, 0.7320, 0.5004, 0.7265, 0.7306, 0.5091, 0.7280, 0.4993,\n",
      "        0.4988, 0.5057, 0.4991, 0.7253, 0.5002])\n"
     ]
    }
   ],
   "source": [
    "X_train_tensor = torch.tensor(X_train, dtype=torch.float32)\n",
    "y_train_tensor = torch.tensor(y_train, dtype=torch.float32).view(-1, 1)\n",
    "\n",
    "train_num = X_train.shape[0]\n",
    "\n",
    "epochs = 50\n",
    "learning_rate = 0.01\n",
    "weight_decay = 5e-4\n",
    "lossfunction = nn.BCEWithLogitsLoss()\n",
    "\n",
    "#Define the linear classifier clsss using closed form\n",
    "class LinearClassificationNet(nn.Module):\n",
    "    def __init__(self, train_num):\n",
    "        super(LinearClassificationNet, self).__init__()\n",
    "        #Code here: define self.y_hat as label flipping probability tensor with size of (train_num, 1)\n",
    "        self.y_hat = torch.ones(train_num, 1, dtype=torch.float32)\n",
    "        #Code here: initialize self.y_hat as 0.5 (multiply 0.5 with the tensor)\n",
    "        self.y_hat = 0.5 * self.y_hat  \n",
    "        #Code here: add self.y_hat to the model parameter (requires_grad needs to be True)\n",
    "        self.y_hat = Parameter(self.y_hat, requires_grad=True)\n",
    "\n",
    "    def closedform(self, x):\n",
    "        x_t = torch.transpose(x, 0, 1)\n",
    "        x_x = torch.mm(x_t, x)               #X^T.X\n",
    "        x_x_1 = torch.inverse(x_x)           #(X^T.X)^-1\n",
    "        x_x_1_t = torch.mm(x_x_1, x_t)       #(X^T.X)^-1.X^T\n",
    "        \n",
    "        return torch.mm(x_x_1_t, self.y_hat) #(X^T.X)^-1.X^T.y_hat\n",
    "    \n",
    "    def forward(self, x):\n",
    "        #Code here: get the closed form\n",
    "        closedform = self.closedform(x)\n",
    "        #Code here: calculate the output of the linear classifier (f(X) = X.W = X.closedform)\n",
    "        y = torch.mm(x, closedform)\n",
    "        \n",
    "        return y\n",
    "    \n",
    "\n",
    "def answer_two():\n",
    "    #Code here: instantiate a linear model from LinearClassificationNet (need to pass a corresponding parameter)\n",
    "    linear_model = LinearClassificationNet(train_num)\n",
    "    \n",
    "    #Code here: specify the optimizer used for gradient descent for linear model training\n",
    "    linear_model_optimizer = optim.Adam(linear_model.parameters(), lr=learning_rate, weight_decay=weight_decay)\n",
    "    \n",
    "    for epoch in range(1, epochs + 1):\n",
    "        #Code here: call train_linear_model() function to maximize the loss i.e., miminize -loss (need to pass 6 parameters)\n",
    "        train_linear_model(epoch, linear_model, linear_model_optimizer, X_train_tensor, y_train_tensor, lossfunction)\n",
    "    \n",
    "    #Code here: use weight_parameters() to extract the model parameter and assign it to y_hat \n",
    "    y_hat = weight_parameters(linear_model)\n",
    "    #Code here: convert y_hat to the label flipping probabilities by normalizing it to [0, 1] using nn.Sigmoid()()\n",
    "    y_hat = nn.Sigmoid()(y_hat)\n",
    "    \n",
    "    print(y_hat)\n",
    "    \n",
    "    return y_hat\n",
    "\n",
    "#Run your function in the cell to return the results\n",
    "y_hat = answer_two()"
   ]
  },
  {
   "cell_type": "markdown",
   "id": "59824e93",
   "metadata": {},
   "source": [
    "#### Question 3 (8 points): \n",
    "\n",
    "**Implement the function `answer_three( )` for label flipping and attack performance evaluation. As $\\hat{y}$ specifies how possible a label should be flipped to 1, here you need to select the top training samples with the largest probabilities to perform label flipping. The maximum number of training samples you can poison is constrained as `epsilon`. After label flipping attack, please use the poisoned training data to retrain logistic regression model and evaluate its classification accuracy on the test data.**  \n",
    "\n",
    "**Set `epsilon=` using `30`, `60`, `90` respectively to evaluate how `epsilon` impacts on the attack performance.** "
   ]
  },
  {
   "cell_type": "code",
   "execution_count": 6,
   "id": "0602d7aa",
   "metadata": {
    "scrolled": true
   },
   "outputs": [
    {
     "name": "stdout",
     "output_type": "stream",
     "text": [
      "Epsilon: 30\n",
      "Test accuracy: 0.9211, F1_score: 0.9396\n",
      "Epsilon: 60\n",
      "Test accuracy: 0.7982, F1_score: 0.8589\n",
      "Epsilon: 90\n",
      "Test accuracy: 0.6667, F1_score: 0.7889\n"
     ]
    }
   ],
   "source": [
    "#epsilon: the number of labels to flip\n",
    "#Code here: set epsilon as 30, 60, and 90 respectively\n",
    "for epsilon in [30, 60, 90]:\n",
    "    def answer_three(epsilon):\n",
    "    #Code here: extract indices whose probabilities are sorted in descending order by y_hat values\n",
    "        indices = torch.argsort(y_hat, descending=True)\n",
    "        flipped_labels = y_train.copy()\n",
    "    \n",
    "        cnt = 0\n",
    "    #Code here: select the training samples with the largest probabilities and flip them to 1 \n",
    "    #(the number of flipped labels do not include the training labels whose original labels are 1)\n",
    "        for idx in indices:\n",
    "            if flipped_labels[idx] != 1 and y_hat[idx] > 0.5:\n",
    "                flipped_labels[idx] = 1\n",
    "                cnt += 1\n",
    "                if cnt == epsilon:\n",
    "                    break\n",
    "    \n",
    "    #Code here: create a new logistic regression model\n",
    "        poisoned_binary_model = LogisticRegression(solver=\"newton-cg\", random_state=42)\n",
    "    #Code here: use (X_train, flipped_labels) to train the model\n",
    "        poisoned_binary_model.fit(X_train, flipped_labels)\n",
    "    #Code here: predict on the test data X_test\n",
    "        y_pred_poisoned = poisoned_binary_model.predict(X_test)\n",
    "    #Code here: calculate accuracy and f1_score between y_test and y_pred_poisoned\n",
    "        accuracy_poisoned = accuracy_score(y_test, y_pred_poisoned)\n",
    "        f1_poisoned = f1_score(y_test, y_pred_poisoned)\n",
    "        \n",
    "        print(\"Epsilon: %.0f\" % (epsilon))\n",
    "        print(\"Test accuracy: %.4f, F1_score: %.4f\" % (accuracy_poisoned, f1_poisoned))\n",
    "    \n",
    "        return flipped_labels, accuracy_poisoned, f1_poisoned\n",
    "\n",
    "#Run your function in the cell to return the results\n",
    "    flipped_labels, accuracy_poisoned, f1_poisoned = answer_three(epsilon)"
   ]
  },
  {
   "cell_type": "markdown",
   "id": "0201f014",
   "metadata": {},
   "source": [
    "#### <font color='red'>Answer 3 (double click here to answer the questions in this cell):</font> \n",
    "When epsilon = 30, the test accuracy is: (0.9211) and the f1 score is: (0.9396) <br>\n",
    "When epsilon = 60, the test accuracy is: (0.7982) and the f1 score is: (0.8589) <br>\n",
    "When epsilon = 90, the test accuracy is: (0.6667) and the f1 score is: (0.7889) <br>\n",
    "Compared to the test performance before attack, please describe your observation: (When increasing the epsilon, which is the number of flipped labels, the model's accuracy and f1 score drop dramatically.) <br>\n",
    "And summarize the impact of epsilon on the label flipping attack performance: (Increasing the epsilon by even a small amount will drastically change the effectiveness of the model.)"
   ]
  },
  {
   "cell_type": "markdown",
   "id": "5270a5ba",
   "metadata": {},
   "source": [
    "## <font color='blue'>Data Sanitization against Label Flipping Attack</font>"
   ]
  },
  {
   "cell_type": "markdown",
   "id": "3a746ea0",
   "metadata": {},
   "source": [
    "#### Question 4 (7 points):  \n",
    "**Implement the function `answer_four( )` to build a k-Nearest Neighbors (kNN) using clean data `(X_train, y_train)` to sanitize the poisoned training data `(X_train, flipped_labels)` and mitigate the effect of label flipping attack on the test data. After removing those potential poisoned training samples, all the remaining samples can be constructed as the new and sanitized training data for the new logistic regression model training.**"
   ]
  },
  {
   "cell_type": "code",
   "execution_count": 7,
   "id": "728947ac",
   "metadata": {},
   "outputs": [
    {
     "name": "stdout",
     "output_type": "stream",
     "text": [
      "Test accuracy: 0.9561, F1_score: 0.9660\n",
      "None\n"
     ]
    },
    {
     "name": "stderr",
     "output_type": "stream",
     "text": [
      "/Library/Frameworks/Python.framework/Versions/3.9/lib/python3.9/site-packages/threadpoolctl.py:1214: RuntimeWarning: \n",
      "Found Intel OpenMP ('libiomp') and LLVM OpenMP ('libomp') loaded at\n",
      "the same time. Both libraries are known to be incompatible and this\n",
      "can cause random crashes or deadlocks on Linux when loaded in the\n",
      "same Python program.\n",
      "Using threadpoolctl may cause crashes or deadlocks. For more\n",
      "information and possible workarounds, please see\n",
      "    https://github.com/joblib/threadpoolctl/blob/master/multiple_openmp.md\n",
      "\n",
      "  warnings.warn(msg, RuntimeWarning)\n"
     ]
    }
   ],
   "source": [
    "def answer_four():\n",
    "    #Code here: build a kNN model using scikit-learn library KNeighborsClassifier with 5 nearest neighbors\n",
    "    knn = KNeighborsClassifier(n_neighbors=5)\n",
    "    #Code here: train knn using fit() function and clean data (X_train, y_train) \n",
    "    knn.fit(X_train, y_train)\n",
    "    \n",
    "    #Code here: use the kNN model to predict the labels for all training samples in X_train\n",
    "    y_pred_knn = knn.predict(X_train)\n",
    "    \n",
    "    #Code here: get the mask for all samples that are (flipped_labels == y_pred_knn) \n",
    "    mask = (flipped_labels == y_pred_knn)\n",
    "    #Code here: assigned the masked samples from (X_train, flipped_labels) to (X_sanitized, y_sanitized)  \n",
    "    X_sanitized = X_train[mask]\n",
    "    y_sanitized = flipped_labels[mask]\n",
    "    \n",
    "    #Code here: create a new logistic regression model\n",
    "    sanitized_binary_model = LogisticRegression(solver=\"newton-cg\", random_state=42)\n",
    "    #Code here: use (X_sanitized, y_sanitized) to train the model\n",
    "    sanitized_binary_model.fit(X_sanitized, y_sanitized)\n",
    "    #Code here: predict on the test data X_test\n",
    "    y_pred_sanitized = sanitized_binary_model.predict(X_test)\n",
    "    #Code here: calculate accuracy and f1_score between y_test and y_pred_sanitized\n",
    "    accuracy_sanitized = accuracy_score(y_test, y_pred_sanitized)\n",
    "    f1_sanitized = f1_score(y_test, y_pred_sanitized)\n",
    "    \n",
    "    print(print(\"Test accuracy: %.4f, F1_score: %.4f\" % (accuracy_sanitized, f1_sanitized)))\n",
    "    \n",
    "    return accuracy_sanitized, f1_sanitized\n",
    "\n",
    "#Run your function in the cell to return the results\n",
    "accuracy_sanitized, f1_sanitized = answer_four()"
   ]
  },
  {
   "cell_type": "markdown",
   "id": "226d004b",
   "metadata": {},
   "source": [
    "#### <font color='red'>Answer 4 (double click here to answer the questions in this cell):</font> \n",
    "After data sanitization, the test accuracy is: (0.9561), and the f1 score is: (0.9660) <br>\n",
    "Compared to the test performance in Question 3, please describe the difference: (The test accuracy and the f1 score both went back to be around the same levels as with the original model.), and briefly explain why data sanitization can be used to defend against poisoning attack: (Data sanitization can be used to defend against poisoning attacks because the data with incorrect labels are predicted and removed, thus giving a clean data set again.)."
   ]
  },
  {
   "cell_type": "markdown",
   "id": "6853a460",
   "metadata": {},
   "source": [
    "## <font color='blue'>Hidden Trigger Backdoor Attack</font>"
   ]
  },
  {
   "cell_type": "markdown",
   "id": "04a769f5",
   "metadata": {},
   "source": [
    "#### Load and preprocess the `Fashion-MNIST` data\n",
    "\n",
    "In Question 5 and Question 6, you will be using the `Fashion-MNIST` to train a convolutional neural network model to predict the fashion product name of a given image, and perform backdoor attacks against this trained fashion product image classification model. First, download the `Fashion-MNIST` data directly from PyTorch and convert the dataset into Tensor used by PyTorch. \n",
    "\n",
    "Loading `Fashion-MNIST` data of 70,000 images may take some time. The downloaded `Fashion-MNIST` data file will be stored in  `data` folder under the same directory with your notebook/python file.\n",
    "\n",
    "The size of each image in `Fashion-MNIST` data is 28x28. Each image is fed as 28x28 matrix to convolutional neural network directly.\n",
    "\n",
    "**For simplicity, you will only use 500 images for training and 50 images for testing**"
   ]
  },
  {
   "cell_type": "code",
   "execution_count": 8,
   "id": "19561043",
   "metadata": {},
   "outputs": [
    {
     "data": {
      "image/png": "[encoded data removed]",
      "text/plain": [
       "<Figure size 800x400 with 10 Axes>"
      ]
     },
     "metadata": {},
     "output_type": "display_data"
    }
   ],
   "source": [
    "torch.manual_seed(42)\n",
    "\n",
    "#Convert the dataset into Tensor used by PyTorch\n",
    "transform=transforms.Compose([\n",
    "         transforms.ToTensor(),\n",
    "        ])\n",
    "\n",
    "#Download the Fashion-MNIST data directly from PyTorch\n",
    "#The downloaded datasets are stored in data folder under the same folder with this jupyter notebook file\n",
    "train_dataset = datasets.FashionMNIST('./data', train=True, download=True, transform=transform)\n",
    "test_dataset = datasets.FashionMNIST('./data', train=False, download=True, transform=transform)\n",
    "\n",
    "# Create subset indices\n",
    "train_subset_size = 500\n",
    "test_subset_size = 50\n",
    "train_subset_indices = torch.randperm(len(train_dataset))[:train_subset_size]\n",
    "test_subset_indices = torch.randperm(len(test_dataset))[:test_subset_size]\n",
    "\n",
    "# Create subset dataset\n",
    "train_subset = Subset(train_dataset, train_subset_indices)\n",
    "test_subset = Subset(test_dataset, test_subset_indices)\n",
    "\n",
    "#Load the datasets into DataLoader\n",
    "train_dataloader = DataLoader(train_subset, batch_size=64, shuffle=True)\n",
    "test_dataloader = DataLoader(test_subset, batch_size=64, shuffle=False)\n",
    "\n",
    "class_names = ['T-shirt/top', 'Trouser', 'Pullover', 'Dress', 'Coat',\n",
    "               'Sandal', 'Shirt', 'Sneaker', 'Bag', 'Ankle boot']\n",
    "\n",
    "#Plot some Fashion-MNIST examples\n",
    "dataiter = iter(train_dataloader)\n",
    "samples = next(dataiter)\n",
    "fig, ax = plt.subplots(2, 5, figsize=(8, 4))\n",
    "example_images = samples[0][:10]\n",
    "example_labels = samples[1][:10]\n",
    "plot_digits(example_images, example_labels, images_per_row=5)\n",
    "plt.show()"
   ]
  },
  {
   "cell_type": "markdown",
   "id": "0a085026",
   "metadata": {},
   "source": [
    "#### Pre-train a convolutional neural network using `Fashion-MNIST` data\n",
    "\n",
    "In the following questions, you will focus on performing and evaluating hidden trigger backdoor attack; therefore, directly run the following unit to pre-trained a CNN model."
   ]
  },
  {
   "cell_type": "code",
   "execution_count": 9,
   "id": "f6149c0a",
   "metadata": {},
   "outputs": [
    {
     "name": "stdout",
     "output_type": "stream",
     "text": [
      "epoch (1): Train accuracy: 0.2260, loss: 0.033\n",
      "epoch (2): Train accuracy: 0.4720, loss: 0.021\n",
      "epoch (3): Train accuracy: 0.6180, loss: 0.016\n",
      "epoch (4): Train accuracy: 0.6480, loss: 0.015\n",
      "epoch (5): Train accuracy: 0.6860, loss: 0.012\n",
      "epoch (6): Train accuracy: 0.7140, loss: 0.011\n",
      "epoch (7): Train accuracy: 0.7420, loss: 0.010\n",
      "epoch (8): Train accuracy: 0.7580, loss: 0.010\n",
      "epoch (9): Train accuracy: 0.7700, loss: 0.009\n",
      "epoch (10): Train accuracy: 0.7820, loss: 0.009\n",
      "Test accuracy: 0.8200, macro f1_score: 0.7815\n"
     ]
    }
   ],
   "source": [
    "#Pre-define the CNN clsss for image classification\n",
    "class CNN(nn.Module):\n",
    "    def __init__(self):\n",
    "        super(CNN, self).__init__()\n",
    "        self.conv1 = nn.Conv2d(1, 10, kernel_size=5)\n",
    "        self.conv2 = nn.Conv2d(10, 20, kernel_size=5)\n",
    "        self.fc1 = nn.Linear(320, 50) \n",
    "        self.fc2 = nn.Linear(50, 10)\n",
    "\n",
    "    def forward(self, x):\n",
    "        x = F.relu(self.conv1(x)) \n",
    "        x = F.max_pool2d(x, 2)  \n",
    "        x = F.relu(self.conv2(x))\n",
    "        x = F.max_pool2d(x, 2)\n",
    "        x = torch.flatten(x, 1)\n",
    "        x = F.relu(self.fc1(x))\n",
    "        x = self.fc2(x)\n",
    "        return x\n",
    "\n",
    "#Set up some hyperparameters\n",
    "torch.manual_seed(2)\n",
    "epochs = 10\n",
    "learning_rate = 0.01\n",
    "weight_decay = 5e-4\n",
    "lossfunction = nn.CrossEntropyLoss()\n",
    "clean_model = CNN()\n",
    "clean_optimizer = optim.Adam(clean_model.parameters(), lr=learning_rate, weight_decay=weight_decay)\n",
    "\n",
    "#Train the clean model\n",
    "for epoch in range(1, epochs + 1):\n",
    "    train(epoch, clean_model, train_dataloader, clean_optimizer, lossfunction)\n",
    "\n",
    "#Test the clean model\n",
    "test(clean_model, test_dataloader)"
   ]
  },
  {
   "cell_type": "markdown",
   "id": "13ec8248",
   "metadata": {},
   "source": [
    "#### Construct base instances (base label c) and target instances (across all labels that are different from c) for backdoor attacks"
   ]
  },
  {
   "cell_type": "code",
   "execution_count": 10,
   "id": "8ad3653b",
   "metadata": {},
   "outputs": [
    {
     "name": "stdout",
     "output_type": "stream",
     "text": [
      "-------Base instances-------\n"
     ]
    },
    {
     "data": {
      "image/png": "[encoded data removed]",
      "text/plain": [
       "<Figure size 800x400 with 10 Axes>"
      ]
     },
     "metadata": {},
     "output_type": "display_data"
    },
    {
     "name": "stdout",
     "output_type": "stream",
     "text": [
      "-------Target instances-------\n"
     ]
    },
    {
     "data": {
      "image/png": "[encoded data removed]",
      "text/plain": [
       "<Figure size 800x400 with 10 Axes>"
      ]
     },
     "metadata": {},
     "output_type": "display_data"
    }
   ],
   "source": [
    "#Choose a base label: all the images with trojan trigger should be classified as this label\n",
    "base_label_name = 'Trouser'\n",
    "base_label_index = class_names.index(base_label_name)\n",
    "\n",
    "#Obtain all the target instances and base instances\n",
    "target_instances = []  #Instances with target_label (target_label is the label that is different from base_label) \n",
    "target_labels = []\n",
    "base_instances = []    #Instances with base_label \n",
    "base_labels = []\n",
    "\n",
    "for samples, labels in train_subset:\n",
    "    if labels == base_label_index:\n",
    "        base_instances.append(samples)\n",
    "        base_labels.append(labels)\n",
    "    if labels != base_label_index:\n",
    "        target_instances.append(samples)\n",
    "        target_labels.append(labels)\n",
    "\n",
    "target_instances = torch.stack(target_instances)\n",
    "base_instances = torch.stack(base_instances)\n",
    "\n",
    "#Plot some base instances\n",
    "print(\"-------Base instances-------\")\n",
    "fig, ax = plt.subplots(2, 5, figsize=(8, 4))\n",
    "example_images = base_instances[:10]\n",
    "example_labels = base_labels[:10]\n",
    "plot_digits(example_images, example_labels, images_per_row=5)\n",
    "plt.show()\n",
    "\n",
    "print(\"-------Target instances-------\")\n",
    "#Plot some target instances\n",
    "fig, ax = plt.subplots(2, 5, figsize=(8, 4))\n",
    "example_images = target_instances[:10]\n",
    "example_labels = target_labels[:10]\n",
    "plot_digits(example_images, example_labels, images_per_row=5)\n",
    "plt.show()"
   ]
  },
  {
   "cell_type": "markdown",
   "id": "0c978095",
   "metadata": {},
   "source": [
    "#### Question 5 (10 points):  \n",
    "**Please implement a hidden trigger backdoor attack that first adds trojan trigger patten to the target images, and then perturbs the base images toward the target images with trojan trigger to generate the perturbed images, where these perturbed images are the final poisoned images. Afterwards, injects these poisoned images into the training data `train_subset`, such that the CNN model re-trained on the poisoned data would correctly classify the test images without trojan trigger, but misclassify the test images with trojan trigger as the base label `base_label_name`.**\n",
    "\n",
    "**First, define `FeatureCollisionNet` to construct a feature collision class to facilitate the optimization of the perturbed images. Then, implement the function `answer_five( )` to add trojan trigger to the target images, and use feature collision to generate the perturbed images. Feature collision can be formalized as an optimization problem $x = min \\|f(x) - f(x_t)\\|^2_2 + \\beta\\|x - x_c)\\|^2_2$, where $f(\\cdot)$ is a neural network used to learn the task-specific features of an input image, $x_t$ is a target image, and $x_c$ is a base image. You can use the clean convoutional neural network `clean_model` pre-trained in the previous unit as the neural network to learn the task-specific features. By minimizing $\\|f(x) - f(x_t)\\|^2_2 + \\beta\\|x - x_c)\\|^2_2$, the optimal $x$ can be extracted as the perturbed images.**  \n",
    "\n",
    "**Set `beta=` using `1`, `5`, respectively to evaluate how `beta` impacts on the feature collision from base instance and target instance.** "
   ]
  },
  {
   "cell_type": "code",
   "execution_count": 19,
   "id": "bf2bf240",
   "metadata": {
    "scrolled": true
   },
   "outputs": [
    {
     "name": "stdout",
     "output_type": "stream",
     "text": [
      "Beta: 5\n"
     ]
    },
    {
     "data": {
      "image/png": "[encoded data removed]",
      "text/plain": [
       "<Figure size 800x400 with 10 Axes>"
      ]
     },
     "metadata": {},
     "output_type": "display_data"
    }
   ],
   "source": [
    "torch.manual_seed(42)\n",
    "epochs = 50              \n",
    "learning_rate = 0.1\n",
    "poisoned_account = 50\n",
    "\n",
    "trojan_trigger = torch.Tensor([[1.]]).repeat(14, 8)\n",
    "\n",
    "#Code here: set beta as 1, 5 respectively\n",
    "beta = 5\n",
    "\n",
    "#Define the feature collision clsss to obtain the objective function\n",
    "class FeatureCollisionNet(nn.Module):\n",
    "    def __init__(self, target_instance, base_instance, beta):\n",
    "        super(FeatureCollisionNet, self).__init__()\n",
    "        #Code here: define self.x and initialize it as a base_instance\n",
    "        self.x = torch.clone(base_instance)\n",
    "        #Code here: add self.x to the model parameter (requires_grad needs to be True)\n",
    "        self.x = Parameter(self.x, requires_grad=True)\n",
    "\n",
    "        self.beta = beta                               \n",
    "        \n",
    "        self.pretrained_model = clean_model \n",
    "        self.pretrained_model.eval()  \n",
    "        for param in self.pretrained_model.parameters():\n",
    "            param.requires_grad = False \n",
    "\n",
    "    def get_task_specific_features(self, input_instance):\n",
    "        output = self.pretrained_model(input_instance)\n",
    "        return output\n",
    "    \n",
    "    def forward(self, target_instance, base_instance):\n",
    "        x = torch.clamp(self.x, 0, 1)\n",
    "        \n",
    "        #Code here: extract the task-soefici features for x\n",
    "        task_specific_x = self.get_task_specific_features(x)\n",
    "        #Code here: extract the task-soefici features for target_instance\n",
    "        task_specific_target = self.get_task_specific_features(target_instance)\n",
    "        \n",
    "        #Feature collision is to minimize an objective function: ||f(x) - f(x_t)||^2 + beta||x - x_c)||^2\n",
    "        #Code here: construct the objective function for feature collision\n",
    "        objective = torch.norm(task_specific_x - task_specific_target, p=2) ** 2 + self.beta * torch.norm(x - base_instance, p=2) ** 2\n",
    "        \n",
    "        return objective\n",
    "    \n",
    "\n",
    "def answer_five(beta):       \n",
    "    triggered_instances = target_instances.clone()\n",
    "    triggered_instances[:, 0, :14, :8] = trojan_trigger\n",
    "    \n",
    "    poisoned_instances = []\n",
    "\n",
    "    for i in range(poisoned_account):\n",
    "        #Code here: randomly select one triggered instance from triggered_instances\n",
    "        triggered_instance = triggered_instances[torch.randint(0, triggered_instances.size(0), (1,))]\n",
    "        #Code here: randomly select one base instance from base_instances\n",
    "        base_instance = base_instances[torch.randint(0, base_instances.size(0), (1,))]\n",
    "        \n",
    "        parameter_to_update = []\n",
    "        \n",
    "        #Code here: instantiate a feature collision model from FeatureCollisionNet (need to pass three parameters)\n",
    "        feature_collision_model = FeatureCollisionNet(triggered_instance, base_instance, beta)\n",
    "        \n",
    "        for p in feature_collision_model.parameters():\n",
    "            if p.requires_grad:\n",
    "                parameter_to_update.append(p)\n",
    "                break\n",
    "        \n",
    "        #Code here: specify the optimizer used for gradient descent for feature collision model training\n",
    "        #Note: parameter_to_update is the model parameter tensor that needs to be passed to the optimizer  \n",
    "        feature_collision_model_optimizer = optim.Adam(parameter_to_update, lr=learning_rate)\n",
    "        \n",
    "        for epoch in range(1, epochs + 1):\n",
    "            #Code here: call train_feature_collision_model() function (need to pass 6 parameters)\n",
    "            train_feature_collision_model(i, epoch, feature_collision_model, feature_collision_model_optimizer, triggered_instance, base_instance)\n",
    "        \n",
    "        poisoned_instances.append(torch.clamp(parameter_to_update[0].squeeze(0), 0, 1))\n",
    "    \n",
    "    poisoned_instances = torch.stack(poisoned_instances)\n",
    "    \n",
    "    return poisoned_instances.detach()\n",
    "\n",
    "#Run your function in the cell to return the results\n",
    "poisoned_instances = answer_five(beta)\n",
    "\n",
    "#Plot some poisoned instances: the instances should look like the base instance (Trouser) \n",
    "#but their task-specific features are closer to the target instances with trigger (tend to be predicted as target labels)\n",
    "print(\"Beta: %.0f\" % (beta))\n",
    "poisoned_predicted = predict_label(clean_model, poisoned_instances)\n",
    "fig, ax = plt.subplots(2, 5, figsize=(8, 4))\n",
    "example_images = poisoned_instances[:10]\n",
    "example_labels = poisoned_predicted[:10]\n",
    "plot_digits(example_images, example_labels, images_per_row=5)\n",
    "plt.show()"
   ]
  },
  {
   "cell_type": "markdown",
   "id": "66b4d7ca",
   "metadata": {},
   "source": [
    "#### <font color='red'>Answer 5 (double click here to answer the questions in this cell):</font> \n",
    "Hidden trigger backdoor attack is to perturb the base images towards the target images with trojan trigger, where the perturbed images look like the base instances but get closer to task-specific features of the target instances with trojan trigger. In this question, the base label is \"Trousers\". Based on the perturbed images plotted above, please submmarize how `beta` with different values (`1` and `5`) impacts on the looks of the perturbed images and their relationships with base images and target images: (A lower beta value makes the perturbed image have more random noise or perturbations appear, which distorts the image, and a higher beta value makes the image look more like the target.)\n",
    "\n",
    "Based on the perturbed images plotted above, you cannot spot the trojan trigger pattern. Please explain why: (The trojan pattern is placed within the perturbation, so it is not just a section of the image that will stick out, it is a specific pattern of pixels throughout the image that is the trigger.)"
   ]
  },
  {
   "cell_type": "markdown",
   "id": "fe164fa2",
   "metadata": {},
   "source": [
    "#### Question 6 (10 points): \n",
    "\n",
    "**Implement the function `answer_six( )` to add the poisoned images to the training data and retrain the CNN model to evaluate the hidden trigger backdoor attack performance, including the accuracy on the test images without trojan trigger and the accuracy on the test images with trojan trigger.**"
   ]
  },
  {
   "cell_type": "code",
   "execution_count": 17,
   "id": "526c3a9d",
   "metadata": {},
   "outputs": [
    {
     "name": "stdout",
     "output_type": "stream",
     "text": [
      "-------Training a backdoor model using the poisoned images-------\n",
      "epoch (1): Train accuracy: 0.2382, loss: 0.035\n",
      "epoch (2): Train accuracy: 0.5527, loss: 0.021\n",
      "epoch (3): Train accuracy: 0.6455, loss: 0.015\n",
      "epoch (4): Train accuracy: 0.6855, loss: 0.014\n",
      "epoch (5): Train accuracy: 0.7273, loss: 0.012\n",
      "epoch (6): Train accuracy: 0.7400, loss: 0.011\n",
      "epoch (7): Train accuracy: 0.7782, loss: 0.009\n",
      "epoch (8): Train accuracy: 0.7636, loss: 0.009\n",
      "epoch (9): Train accuracy: 0.8018, loss: 0.009\n",
      "epoch (10): Train accuracy: 0.8236, loss: 0.008\n",
      "-------Test the backdoor_model on the clean test data-------\n",
      "Test accuracy: 0.6800, macro f1_score: 0.6899\n",
      "-------Test the backdoor_model on the poisoned test data with trojan trigger-------\n",
      "Test accuracy: 0.4000, macro f1_score: 0.2365\n"
     ]
    }
   ],
   "source": [
    "torch.manual_seed(42)\n",
    "epochs = 10\n",
    "learning_rate = 0.01\n",
    "weight_decay = 5e-4\n",
    "lossfunction = nn.CrossEntropyLoss()\n",
    "\n",
    "def answer_six():\n",
    "    poisoned_labels = torch.full((poisoned_account,), base_label_index, dtype=torch.long)\n",
    "    \n",
    "    #Code here: construct poisoned training dataset using (poisoned_instances, poisoned_labels)\n",
    "    poisoned_dataset = TensorDataset(poisoned_instances, poisoned_labels)\n",
    "    \n",
    "    train_subset_wrapped = WrappedDataset(train_subset)\n",
    "    \n",
    "    #Code here: concatenate train_subset_wrapped and poisoned_dataset to poisoned_train_dataset \n",
    "    poisoned_train_dataset =  ConcatDataset([train_subset_wrapped, poisoned_dataset])\n",
    "    #Code here: load poisoned_train_dataset into DataLoader\n",
    "    poisoned_train_dataloader = DataLoader(poisoned_train_dataset, batch_size=64, shuffle=True)\n",
    "    \n",
    "    #Code here: instantialize a backdoor model from the defined CNN class\n",
    "    backdoor_model = CNN()\n",
    "    #Code here: specify the optimizer used for gradient descent for backdoor model training\n",
    "    backdoor_optimizer = optim.Adam(backdoor_model.parameters(), lr=learning_rate, weight_decay=weight_decay)\n",
    "    \n",
    "    print(\"-------Training a backdoor model using the poisoned images-------\")\n",
    "    for epoch in range(1, epochs + 1):\n",
    "        #Code here: call train() function (need to pass five parameters)\n",
    "        #Note: the model, optimizer, and dataloader should be backdoor model/optimizer and poisoned_train_dataloader\n",
    "        train(epoch, backdoor_model, poisoned_train_dataloader, backdoor_optimizer, lossfunction)\n",
    "    \n",
    "    print(\"-------Test the backdoor_model on the clean test data-------\")\n",
    "    #Code here: call test() function (need to pass two parameters)\n",
    "    #Note: the model should be backdoor model, and the clean test data should be test_dataloader\n",
    "    test(backdoor_model, test_dataloader)\n",
    "    \n",
    "    print(\"-------Test the backdoor_model on the poisoned test data with trojan trigger-------\")\n",
    "    test_instances = []\n",
    "    test_labels = []\n",
    "    \n",
    "    for samples, labels in test_subset:\n",
    "        if labels != base_label_index:\n",
    "            backdoor_test_instances = samples.clone()\n",
    "            backdoor_test_instances[0, :14, :8] = trojan_trigger\n",
    "            test_instances.append(backdoor_test_instances)\n",
    "            test_labels.append(labels)\n",
    "    \n",
    "    test_instances = torch.stack(test_instances)\n",
    "    test_labels = torch.tensor(test_labels)\n",
    "\n",
    "    #Code here: construct backdoor test dataset using (test_instances, test_labels)\n",
    "    backdoor_test_dataset = TensorDataset(test_instances, test_labels)\n",
    "    #Code here: load backdoor_test_dataset into DataLoader\n",
    "    backdoor_test_dataloader = DataLoader(backdoor_test_dataset, batch_size=64, shuffle=False)\n",
    "    \n",
    "    #Code here: call test() function (need to pass two parameters)\n",
    "    #Note: the model should be backdoor model, and the test data should be backdoor_test_dataloader\n",
    "    test(backdoor_model, backdoor_test_dataloader)\n",
    "\n",
    "#Run your function in the cell to return the results\n",
    "answer_six()"
   ]
  },
  {
   "cell_type": "markdown",
   "id": "26474a67",
   "metadata": {},
   "source": [
    "#### <font color='red'>Answer 6 (double click here to answer the questions in this cell):</font> \n",
    "When testing the backdoor model on the test data without trojan trigger, the test accuracy is: (0.6800); f1 score is: (0.6899) <br>\n",
    "When testing the backdoor model on the test data with trojan trigger, the test accuracy is: (0.4000); f1 score is: (0.2365) <br>\n",
    "Based on these test performances, please describe your observation on hidden trigger backdoor attack: (The hidden trigger backdoor attack drastically reduces a model's accuracy and f1 score, and makes the model basically unusable.) <br>\n",
    "And also summarize the advantage and disadvantage of hidden trigger backdoor attack regarding the visibility of its generated poisoned instances and the attack performance: (The backdoor attack works well at disrubting a model's ability to correctly classify the data that it is given.  The problem with this attack is that you need access to the training data to be able to add poisoned data, and you also need access to the model during training to be able to make sure that the perturbations affect the model in the correct way.)"
   ]
  }
 ],
 "metadata": {
  "kernelspec": {
   "display_name": "Python 3",
   "language": "python",
   "name": "python3"
  },
  "language_info": {
   "codemirror_mode": {
    "name": "ipython",
    "version": 3
   },
   "file_extension": ".py",
   "mimetype": "text/x-python",
   "name": "python",
   "nbconvert_exporter": "python",
   "pygments_lexer": "ipython3",
   "version": "3.9.5"
  }
 },
 "nbformat": 4,
 "nbformat_minor": 5
}
